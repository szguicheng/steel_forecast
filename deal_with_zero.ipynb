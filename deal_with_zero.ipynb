{
 "cells": [
  {
   "cell_type": "code",
   "execution_count": 6,
   "metadata": {},
   "outputs": [],
   "source": [
    "#删除零数据,以及补充所有空单元格为0\n",
    "import pandas as pd\n",
    "\n",
    "df = pd.read_excel(\n",
    "    '/Users/guicheng/Documents/大学/本科学业/毕业设计/腐蚀数据处理/第二次腐蚀数据获取/第二次腐蚀数据_outerr_human.xlsx'\n",
    ")\n",
    "# mask = (((df['瞬时法SO2'] == 0) & (df['瞬时法HCl'] == 0)) | ((df['瞬时法SO2'] == '') &\n",
    "#                                                        (df['瞬时法HCl'] == ''))\n",
    "#         | (df['瞬时法SO2'].isnull() & df['瞬时法HCl'].isnull()))\n",
    "# zero_rows = df[mask]\n",
    "# df = df.drop(zero_rows.index)\n",
    "df.fillna(0, inplace=True)\n",
    "df.to_excel(\n",
    "    '/Users/guicheng/Documents/大学/本科学业/毕业设计/腐蚀数据处理/第二次腐蚀数据获取/第二次腐蚀数据_outerr_human.xlsx',\n",
    "    index=False)\n"
   ]
  }
 ],
 "metadata": {
  "kernelspec": {
   "display_name": ".venv",
   "language": "python",
   "name": "python3"
  },
  "language_info": {
   "codemirror_mode": {
    "name": "ipython",
    "version": 3
   },
   "file_extension": ".py",
   "mimetype": "text/x-python",
   "name": "python",
   "nbconvert_exporter": "python",
   "pygments_lexer": "ipython3",
   "version": "3.12.3"
  }
 },
 "nbformat": 4,
 "nbformat_minor": 2
}
